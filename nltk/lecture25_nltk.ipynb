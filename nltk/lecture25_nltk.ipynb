{
 "cells": [
  {
   "cell_type": "markdown",
   "metadata": {},
   "source": [
    "# Lecture 25:  Natural Language Toolkit - NLTK\n",
    "- Download data for practice analysis from the NLTK repository\n",
    "- Explore word usage with NLTK’s __concordance__, __similar__, and __dispersion_plot__ functions\n",
    "- Calculate a crude metric of the lexical diversity of a text by comparing the ratio of word __(token)__ types to total words\n",
    "- Calculate the frequency of each word type in a text, and other word metrics using the __FreqDist__ function\n",
    "\n",
    "__Reading material:__\n",
    "- Read the introduction to Chapter 1 of the [NLTK Book](http://www.nltk.org/book/ch01.html). \n",
    "\n",
    "- Follow 1.2, 1.3, 1.4\n",
    "- Follow Chapter 1, section 3 (all)\n",
    "- Skim Chapter 1, section 5. This will give you a good overview of the issues in natural language\n",
    "- Skim Chapter 3 for processing raw text processing.\n"
   ]
  },
  {
   "cell_type": "code",
   "execution_count": null,
   "metadata": {},
   "outputs": [],
   "source": [
    "import nltk\n",
    "%matplotlib inline"
   ]
  },
  {
   "cell_type": "code",
   "execution_count": null,
   "metadata": {},
   "outputs": [],
   "source": [
    "nltk.download()\n",
    "# nltk.download_shell()\n",
    "# try running \"nltk.download_shell()\" or \"nltk.download(\"book\")\" instead if there seems to be an issue using the downloader UI"
   ]
  },
  {
   "cell_type": "code",
   "execution_count": null,
   "metadata": {},
   "outputs": [],
   "source": [
    "from nltk.book import *"
   ]
  },
  {
   "cell_type": "code",
   "execution_count": null,
   "metadata": {},
   "outputs": [],
   "source": [
    "print(text1)\n",
    "print(type(text1))"
   ]
  },
  {
   "cell_type": "code",
   "execution_count": null,
   "metadata": {},
   "outputs": [],
   "source": [
    "# Searching Text\n",
    "text1.concordance(\"food\")"
   ]
  },
  {
   "cell_type": "code",
   "execution_count": null,
   "metadata": {},
   "outputs": [],
   "source": [
    "# To find other words that appear in a similar range of contexts\n",
    "text1.similar(\"food\")"
   ]
  },
  {
   "cell_type": "code",
   "execution_count": null,
   "metadata": {},
   "outputs": [],
   "source": [
    "text1.dispersion_plot([\"food\", \"time\", \"live\", \"here\"])"
   ]
  },
  {
   "cell_type": "code",
   "execution_count": null,
   "metadata": {},
   "outputs": [],
   "source": [
    "# to get frequency distribution of some text\n",
    "fdist1=FreqDist(text1)\n",
    "print(fdist1.most_common(5))\n",
    "fdist1.plot(30, cumulative=False)"
   ]
  },
  {
   "cell_type": "markdown",
   "metadata": {},
   "source": [
    "Let's see if we can do better by removing meaningless words."
   ]
  },
  {
   "cell_type": "code",
   "execution_count": null,
   "metadata": {},
   "outputs": [],
   "source": [
    "# download the \"stopwords\" package\n",
    "nltk.download(\"stopwords\")"
   ]
  },
  {
   "cell_type": "code",
   "execution_count": null,
   "metadata": {},
   "outputs": [],
   "source": [
    "from nltk.corpus import stopwords\n",
    "print(stopwords.words(\"english\"))"
   ]
  },
  {
   "cell_type": "code",
   "execution_count": null,
   "metadata": {},
   "outputs": [],
   "source": [
    "stopwds = stopwords.words(\"english\")\n",
    "filtered_text1 = [w.lower() for w in text1 if w.lower() not in stopwds and w.isalnum()] \n",
    "filtered_text1 = nltk.Text(filtered_text1)"
   ]
  },
  {
   "cell_type": "code",
   "execution_count": null,
   "metadata": {},
   "outputs": [],
   "source": [
    "filtered_text1.plot(30)"
   ]
  },
  {
   "cell_type": "code",
   "execution_count": null,
   "metadata": {},
   "outputs": [],
   "source": []
  }
 ],
 "metadata": {
  "kernelspec": {
   "display_name": "Python 3",
   "language": "python",
   "name": "python3"
  },
  "language_info": {
   "codemirror_mode": {
    "name": "ipython",
    "version": 3
   },
   "file_extension": ".py",
   "mimetype": "text/x-python",
   "name": "python",
   "nbconvert_exporter": "python",
   "pygments_lexer": "ipython3",
   "version": "3.7.4"
  }
 },
 "nbformat": 4,
 "nbformat_minor": 2
}
