{
 "cells": [
  {
   "cell_type": "markdown",
   "metadata": {},
   "source": [
    "# Lecture 12: Regular Expressions\n",
    "\n",
    "- Reading material: tutorial https://regexone.com\n",
    "\n",
    "- The cheat sheet at the following link is very useful to keep in the background. https://www.debuggex.com/cheatsheet/regex/python \n",
    "\n",
    "- Here's another useful website for you to test your regular expressions.\n",
    "http://pythex.org/"
   ]
  },
  {
   "cell_type": "markdown",
   "metadata": {},
   "source": [
    "Regular expressions are a language to describe patterns in strings. They are extremely useful when working with data sets. \n",
    "\n",
    "To start, we need the module `re`, and two functions from it: `search` and `findall`. The function `re.search` takes as input a pattern and a string, and returns an object (of a class that is specific to the `re` module) that contains the first substring matching the pattern, together with its location in the string. We can call the former using the `group()` attribute, and the latter using the `start()` and `end()` attributes. \n",
    "\n",
    "For example:\n"
   ]
  },
  {
   "cell_type": "code",
   "execution_count": 1,
   "metadata": {},
   "outputs": [],
   "source": [
    "import re"
   ]
  },
  {
   "cell_type": "code",
   "execution_count": 4,
   "metadata": {},
   "outputs": [
    {
     "data": {
      "text/plain": [
       "'abc'"
      ]
     },
     "execution_count": 4,
     "metadata": {},
     "output_type": "execute_result"
    }
   ],
   "source": [
    "# re.search(r'abc','abcd') # returns a match object\n",
    "re.search(r'abc','abcd').group()"
   ]
  },
  {
   "cell_type": "code",
   "execution_count": 5,
   "metadata": {},
   "outputs": [
    {
     "data": {
      "text/plain": [
       "'abc'"
      ]
     },
     "execution_count": 5,
     "metadata": {},
     "output_type": "execute_result"
    }
   ],
   "source": [
    "# re.search(pattern, string)\n",
    "re.search(r'abc','abcd').group()"
   ]
  },
  {
   "cell_type": "code",
   "execution_count": 7,
   "metadata": {},
   "outputs": [
    {
     "data": {
      "text/plain": [
       "'ab'"
      ]
     },
     "execution_count": 7,
     "metadata": {},
     "output_type": "execute_result"
    }
   ],
   "source": [
    "re.search(r'abc*','abd abcd abcdddd abcccccccd').group()"
   ]
  },
  {
   "cell_type": "code",
   "execution_count": 6,
   "metadata": {},
   "outputs": [
    {
     "name": "stdout",
     "output_type": "stream",
     "text": [
      "abc\n",
      "abccccc\n",
      "abcccccccccc\n"
     ]
    }
   ],
   "source": [
    "prog = re.compile(r'abc*')\n",
    "\n",
    "print(prog.match('abcd').group())\n",
    "print(prog.match('abcccccd').group())\n",
    "print(prog.match('abccccccccccd').group())"
   ]
  },
  {
   "cell_type": "code",
   "execution_count": 10,
   "metadata": {},
   "outputs": [
    {
     "name": "stdout",
     "output_type": "stream",
     "text": [
      "abc\\n\n",
      "abc\n",
      "\n"
     ]
    }
   ],
   "source": [
    "print(r\"abc\\n\")\n",
    "print(\"abc\\n\")"
   ]
  },
  {
   "cell_type": "code",
   "execution_count": null,
   "metadata": {},
   "outputs": [],
   "source": [
    "print(r'\\\\')"
   ]
  },
  {
   "cell_type": "code",
   "execution_count": 13,
   "metadata": {},
   "outputs": [
    {
     "data": {
      "text/plain": [
       "'\\\\'"
      ]
     },
     "execution_count": 13,
     "metadata": {},
     "output_type": "execute_result"
    }
   ],
   "source": [
    "re.search(r'\\\\','a\\\\b').group()"
   ]
  },
  {
   "cell_type": "code",
   "execution_count": 14,
   "metadata": {},
   "outputs": [
    {
     "data": {
      "text/plain": [
       "0"
      ]
     },
     "execution_count": 14,
     "metadata": {},
     "output_type": "execute_result"
    }
   ],
   "source": [
    "re.search(r'abc','abcd').start()"
   ]
  },
  {
   "cell_type": "code",
   "execution_count": 15,
   "metadata": {},
   "outputs": [
    {
     "data": {
      "text/plain": [
       "3"
      ]
     },
     "execution_count": 15,
     "metadata": {},
     "output_type": "execute_result"
    }
   ],
   "source": [
    "re.search(r'abc','abcd').end()"
   ]
  },
  {
   "cell_type": "markdown",
   "metadata": {},
   "source": [
    "The `group()` attribute allows us to group the pattern, using parentheses, such that we can call different parts of it. \n",
    "\n",
    "Imagine, for example, that we are looking for email addresses and wish to sometimes only call the username or the domain. These groups may be nested; they are ordered by their leftmost parenthesis. The 0-group always returns the whole pattern. \n",
    "\n",
    "For example:"
   ]
  },
  {
   "cell_type": "code",
   "execution_count": 19,
   "metadata": {},
   "outputs": [
    {
     "data": {
      "text/plain": [
       "'abc'"
      ]
     },
     "execution_count": 19,
     "metadata": {},
     "output_type": "execute_result"
    }
   ],
   "source": [
    "re.search(r'abc','abcd').group()"
   ]
  },
  {
   "cell_type": "code",
   "execution_count": 21,
   "metadata": {},
   "outputs": [
    {
     "data": {
      "text/plain": [
       "'b'"
      ]
     },
     "execution_count": 21,
     "metadata": {},
     "output_type": "execute_result"
    }
   ],
   "source": [
    "#re.search(r'a(b)c','abcd').group()\n",
    "re.search(r'a(b)c','abcd').group(1)"
   ]
  },
  {
   "cell_type": "code",
   "execution_count": 24,
   "metadata": {},
   "outputs": [
    {
     "data": {
      "text/plain": [
       "'math'"
      ]
     },
     "execution_count": 24,
     "metadata": {},
     "output_type": "execute_result"
    }
   ],
   "source": [
    "#re.search(r'(\\w+)@(\\w+)[.]','hangjie@math.ucla.edu').group()\n",
    "#re.search(r'(\\w+)@(\\w+)[.]','hangjie@math.ucla.edu').group(1)\n",
    "re.search(r'(\\w+)@(\\w+)[.]','hangjie@math.ucla.edu').group(2)"
   ]
  },
  {
   "cell_type": "code",
   "execution_count": 25,
   "metadata": {},
   "outputs": [
    {
     "data": {
      "text/plain": [
       "'ab'"
      ]
     },
     "execution_count": 25,
     "metadata": {},
     "output_type": "execute_result"
    }
   ],
   "source": [
    "re.search(r'((a)b)c','abcd').group(1)"
   ]
  },
  {
   "cell_type": "code",
   "execution_count": 26,
   "metadata": {},
   "outputs": [
    {
     "data": {
      "text/plain": [
       "'a'"
      ]
     },
     "execution_count": 26,
     "metadata": {},
     "output_type": "execute_result"
    }
   ],
   "source": [
    "re.search(r'((a)b)c','abcd').group(2)"
   ]
  },
  {
   "cell_type": "code",
   "execution_count": 30,
   "metadata": {},
   "outputs": [
    {
     "data": {
      "text/plain": [
       "[('ab', ''), ('abc', 'c'), ('abc', 'c'), ('abccccccc', 'ccccccc')]"
      ]
     },
     "execution_count": 30,
     "metadata": {},
     "output_type": "execute_result"
    }
   ],
   "source": [
    "#re.findall(r'abc*','abd abcd abcdddd abcccccccd')\n",
    "#re.findall(r'e','abd abcd abcdddd abcccccccd') # returns an empty list\n",
    "\n",
    "re.findall(r'(ab(c*))','abd abcd abcdddd abcccccccd')"
   ]
  },
  {
   "cell_type": "markdown",
   "metadata": {},
   "source": [
    "The `findall( )` functions simply returns a list containing all substrings that match the pattern, without information about their location. \n",
    "\n",
    "To ask for more general patterns, we use placeholders, such as \n",
    "- __.__ for any character\n",
    "- __\\d__ for any digit\n",
    "- __[a-z]__ for lower case letters\n",
    "- __[A-Z]__ for upper case letters \n",
    "\n",
    "We also use multipliers, such as \n",
    "- __?__ for 0 or 1\n",
    "- __+__ for 1 or more\n",
    "- __*__ for any number. \n",
    "\n",
    "If we want to look for these special characters, instead of using them as placeholders, we can use `[ ]`. \n",
    "\n",
    "We can also use `|` inside square brackets to mean “or”. So if we need an a or a b, we ask for `a|b`. \n",
    "\n",
    "We can also use __lookforwards__ and __lookbackwards__. These let us filter out patterns that are preceded or followed by another pattern, without asking for that pattern. For example, suppose that we have a list of real numbers that all have decimals, and we would like to filter out the integer parts, so we use a lookforward, indicated by `(?=)` to a period:"
   ]
  },
  {
   "cell_type": "code",
   "execution_count": 32,
   "metadata": {},
   "outputs": [
    {
     "data": {
      "text/plain": [
       "['1', '5', '8', '13']"
      ]
     },
     "execution_count": 32,
     "metadata": {},
     "output_type": "execute_result"
    }
   ],
   "source": [
    "s='1.86 5.30 8.54 13.75 14~ 49-'\n",
    "re.findall(r'\\d+(?=[.])',s)"
   ]
  },
  {
   "cell_type": "markdown",
   "metadata": {},
   "source": [
    "For example, suppose that we have the following piece of text:\n",
    "\n",
    "\"October arrived, spreading a damp chill over the grounds and into the castle. Madam Pomfrey, the nurse, was kept busy by a sudden spate of colds among the staff and students. Her Pepperup potion worked instantly, though it left the drinker smoking at the ears for several hours afterward. Ginny Weasley, who had been looking pale, was bullied into taking some by Percy. The steam pouring from under her vivid hair gave the impression that her whole head was on fire.\"\n",
    "\n",
    "We are looking for words that are capitalized, but that are not at the beginning of a sentence. These are words that are preceded by a lower case letter and then a space:"
   ]
  },
  {
   "cell_type": "code",
   "execution_count": 34,
   "metadata": {},
   "outputs": [],
   "source": [
    "s='October arrived, spreading a damp chill over the grounds and into the castle. Madam Pomfrey, the nurse, was kept busy by a sudden spate of colds among the staff and students. Her Pepperup potion worked instantly, though it left the drinker smoking at the ears for several hours afterward. Ginny Weasley, who had been looking pale, was bullied into taking some by Percy. The steam pouring from under her vivid hair gave the impression that her whole head was on fire. '"
   ]
  },
  {
   "cell_type": "code",
   "execution_count": 36,
   "metadata": {},
   "outputs": [
    {
     "data": {
      "text/plain": [
       "['October',\n",
       " 'Madam',\n",
       " 'Pomfrey',\n",
       " 'Her',\n",
       " 'Pepperup',\n",
       " 'Ginny',\n",
       " 'Weasley',\n",
       " 'Percy',\n",
       " 'The']"
      ]
     },
     "execution_count": 36,
     "metadata": {},
     "output_type": "execute_result"
    }
   ],
   "source": [
    "re.findall(r'[A-Z][a-z]+',s)"
   ]
  },
  {
   "cell_type": "code",
   "execution_count": 37,
   "metadata": {},
   "outputs": [
    {
     "data": {
      "text/plain": [
       "['Pomfrey', 'Pepperup', 'Weasley', 'Percy']"
      ]
     },
     "execution_count": 37,
     "metadata": {},
     "output_type": "execute_result"
    }
   ],
   "source": [
    "re.findall(r'(?<=[a-z]\\s)[A-Z][a-z]+',s)"
   ]
  },
  {
   "cell_type": "markdown",
   "metadata": {},
   "source": [
    "### Exercise:"
   ]
  },
  {
   "cell_type": "markdown",
   "metadata": {},
   "source": [
    "- Write a regular expression that extracts all full sentences that are questions from a piece of english text.\n"
   ]
  },
  {
   "cell_type": "raw",
   "metadata": {
    "collapsed": true
   },
   "source": [
    "[A-Z][^\\.!?]*[?]"
   ]
  },
  {
   "cell_type": "markdown",
   "metadata": {},
   "source": [
    "- Write a regular expression that finds the maximum of all numbers (either integers or floats) that are in a string. The pattern ‘26’ should be counted as twenty six, rather than a 2 and a 6."
   ]
  },
  {
   "cell_type": "raw",
   "metadata": {
    "collapsed": true
   },
   "source": [
    "max([float(i) for i in re.findall(r'([-]?\\d+(?:\\.\\d+)?)',s)])"
   ]
  },
  {
   "cell_type": "markdown",
   "metadata": {},
   "source": [
    "- Write a regular expression that finds all short sentences in a piece of english text (sentences with no more than 10 words)."
   ]
  },
  {
   "cell_type": "raw",
   "metadata": {
    "collapsed": true
   },
   "source": [
    "[A-Z](?:\\w+[,]?\\s){,9}\\w+[\\.!?]"
   ]
  },
  {
   "cell_type": "markdown",
   "metadata": {},
   "source": [
    "- Write a regular expression that lists the first letters of every sentence in a piece of english text.\n"
   ]
  },
  {
   "cell_type": "raw",
   "metadata": {
    "collapsed": true
   },
   "source": [
    "([A-Z])(?:\\w+[,]?\\s)+\\w+[\\.!?]"
   ]
  },
  {
   "cell_type": "markdown",
   "metadata": {},
   "source": [
    "- Use regular expressions to add commas between two numbers in a list of numbers separated only by spaces. So, we want to turn ’1 3 8 2’ into ’1, 3, 8, 2’. Then, also add square brackets, so that the list is written in a way that can be used in python.\n",
    "We want ’[1, 3, 8, 2]’. Put this all together to create a function that takes as input a string of space separated numbers, and outputs a python list of those numbers (not strings)."
   ]
  },
  {
   "cell_type": "code",
   "execution_count": 187,
   "metadata": {},
   "outputs": [
    {
     "data": {
      "text/plain": [
       "[1, 3, 8, 2]"
      ]
     },
     "execution_count": 187,
     "metadata": {},
     "output_type": "execute_result"
    }
   ],
   "source": [
    "def str2list(s):\n",
    "    s = '['+re.sub(r'\\s+',r', ',s)+']'\n",
    "    s = re.findall(r'[^, \\[\\]]+', s)\n",
    "    return [int(i) for i in s]\n",
    "\n",
    "s = '1 3 8 2'\n",
    "str2list(s)\n"
   ]
  }
 ],
 "metadata": {
  "kernelspec": {
   "display_name": "Python 3",
   "language": "python",
   "name": "python3"
  },
  "language_info": {
   "codemirror_mode": {
    "name": "ipython",
    "version": 3
   },
   "file_extension": ".py",
   "mimetype": "text/x-python",
   "name": "python",
   "nbconvert_exporter": "python",
   "pygments_lexer": "ipython3",
   "version": "3.8.5"
  }
 },
 "nbformat": 4,
 "nbformat_minor": 2
}
