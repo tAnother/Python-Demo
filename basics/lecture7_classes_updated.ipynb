{
 "cells": [
  {
   "cell_type": "markdown",
   "metadata": {},
   "source": [
    "# Lecture 7\n",
    "1. Define a class\n",
    "2. Instantiate objects, manipulate class and instance variables, call object methods\n",
    "3. Magic methods and overloading operators\n",
    "\n",
    "Reading material: [tutorialspoint](http://www.tutorialspoint.com/python/python_classes_objects.htm)"
   ]
  },
  {
   "cell_type": "markdown",
   "metadata": {
    "collapsed": true
   },
   "source": [
    "### Classes and objects\n",
    "\n",
    "Classes are like modules. A way to think about a module is that it is a specialized dictionary that can store Python code so you can get to it with the `.` (dot) operator. A class is a way to take a grouping of functions and data and place them inside a container so you can access them with the `.` (dot) operator."
   ]
  },
  {
   "cell_type": "markdown",
   "metadata": {},
   "source": [
    "Let's create a class. This class will create objects which have a numerical value and a name as their data, and will have methods that can double the numerical data or change the name. We also keep track of how often the name of an object has been changed. The variable count is a class variable whose value is shared among all instances of a this class.\n",
    "\n",
    "Note how we can manipulate different parts of the data independently! The `self` word comes up a lot, and we need this to specify the local data variables, which live only inside the object. The first line of the class definition, with the `__init__` part, is almost always there, since it sets the initial values of the data. They do not need to be user specified."
   ]
  },
  {
   "cell_type": "markdown",
   "metadata": {},
   "source": [
    "Article on how __new__ and __init__ work\n",
    "https://www.geeksforgeeks.org/__new__-in-python/"
   ]
  },
  {
   "cell_type": "code",
   "execution_count": 1,
   "metadata": {},
   "outputs": [],
   "source": [
    "# class DblClass(object): # common for Python 2\n",
    "\n",
    "class DblClass:\n",
    "    '''this is a class demo'''\n",
    "    count = 0 # class variable\n",
    "    def __init__(self,val,name):\n",
    "        self.val=val # instance variable\n",
    "        self.name=name # instance variable\n",
    "        self.chng=0 # instance variable\n",
    "        DblClass.count+=1 \n",
    "    def double(self):\n",
    "        self.val=2*self.val\n",
    "    def rename(self,newname):\n",
    "        self.name=newname\n",
    "        self.chng+=1"
   ]
  },
  {
   "cell_type": "markdown",
   "metadata": {
    "collapsed": true
   },
   "source": [
    "Some built-in class attributes:"
   ]
  },
  {
   "cell_type": "code",
   "execution_count": 2,
   "metadata": {},
   "outputs": [
    {
     "name": "stdout",
     "output_type": "stream",
     "text": [
      "DblClass.__doc__: this is a class demo\n"
     ]
    }
   ],
   "source": [
    "print(\"DblClass.__doc__:\", DblClass.__doc__)"
   ]
  },
  {
   "cell_type": "code",
   "execution_count": 3,
   "metadata": {},
   "outputs": [
    {
     "name": "stdout",
     "output_type": "stream",
     "text": [
      "DblClass.__bases__: (<class 'object'>,)\n"
     ]
    }
   ],
   "source": [
    "print(\"DblClass.__bases__:\", DblClass.__bases__)"
   ]
  },
  {
   "cell_type": "code",
   "execution_count": 4,
   "metadata": {},
   "outputs": [
    {
     "name": "stdout",
     "output_type": "stream",
     "text": [
      "DblClass.__dict__: {'__module__': '__main__', '__doc__': 'this is a class demo', 'count': 0, '__init__': <function DblClass.__init__ at 0x10d05e290>, 'double': <function DblClass.double at 0x10d05e320>, 'rename': <function DblClass.rename at 0x10d05e3b0>, '__dict__': <attribute '__dict__' of 'DblClass' objects>, '__weakref__': <attribute '__weakref__' of 'DblClass' objects>}\n"
     ]
    }
   ],
   "source": [
    "print(\"DblClass.__dict__:\", DblClass.__dict__)"
   ]
  },
  {
   "cell_type": "markdown",
   "metadata": {},
   "source": [
    "We can then use this class as follows:"
   ]
  },
  {
   "cell_type": "code",
   "execution_count": 5,
   "metadata": {},
   "outputs": [
    {
     "name": "stdout",
     "output_type": "stream",
     "text": [
      "0\n"
     ]
    }
   ],
   "source": [
    "print(DblClass.count)"
   ]
  },
  {
   "cell_type": "code",
   "execution_count": 6,
   "metadata": {},
   "outputs": [
    {
     "name": "stdout",
     "output_type": "stream",
     "text": [
      "4\n"
     ]
    }
   ],
   "source": [
    "b = DblClass(4, 'Data')\n",
    "print(b.val)"
   ]
  },
  {
   "cell_type": "code",
   "execution_count": 7,
   "metadata": {},
   "outputs": [
    {
     "name": "stdout",
     "output_type": "stream",
     "text": [
      "1\n"
     ]
    }
   ],
   "source": [
    "print(DblClass.count)"
   ]
  },
  {
   "cell_type": "code",
   "execution_count": 8,
   "metadata": {},
   "outputs": [
    {
     "name": "stdout",
     "output_type": "stream",
     "text": [
      "8\n"
     ]
    }
   ],
   "source": [
    "b.double()\n",
    "print(b.val)"
   ]
  },
  {
   "cell_type": "code",
   "execution_count": 9,
   "metadata": {},
   "outputs": [
    {
     "name": "stdout",
     "output_type": "stream",
     "text": [
      "Data\n"
     ]
    }
   ],
   "source": [
    "print(b.name)"
   ]
  },
  {
   "cell_type": "code",
   "execution_count": 10,
   "metadata": {},
   "outputs": [
    {
     "name": "stdout",
     "output_type": "stream",
     "text": [
      "newData\n"
     ]
    }
   ],
   "source": [
    "b.rename('newData')\n",
    "print(b.name)"
   ]
  },
  {
   "cell_type": "code",
   "execution_count": 11,
   "metadata": {},
   "outputs": [
    {
     "name": "stdout",
     "output_type": "stream",
     "text": [
      "1\n"
     ]
    }
   ],
   "source": [
    "print(b.chng)"
   ]
  },
  {
   "cell_type": "code",
   "execution_count": 12,
   "metadata": {},
   "outputs": [
    {
     "name": "stdout",
     "output_type": "stream",
     "text": [
      "2\n"
     ]
    }
   ],
   "source": [
    "c = DblClass(40, 'Data2')\n",
    "print(DblClass.count)"
   ]
  },
  {
   "cell_type": "code",
   "execution_count": 13,
   "metadata": {},
   "outputs": [
    {
     "name": "stdout",
     "output_type": "stream",
     "text": [
      "2\n",
      "2\n"
     ]
    }
   ],
   "source": [
    "print(c.count)\n",
    "print(b.count)"
   ]
  },
  {
   "cell_type": "code",
   "execution_count": 14,
   "metadata": {},
   "outputs": [
    {
     "name": "stdout",
     "output_type": "stream",
     "text": [
      "100\n",
      "100\n",
      "100\n"
     ]
    }
   ],
   "source": [
    "# we can modify class variables outside of the class definition\n",
    "DblClass.count = 100\n",
    "print(DblClass.count)\n",
    "print(c.count)\n",
    "print(b.count)"
   ]
  },
  {
   "cell_type": "code",
   "execution_count": 22,
   "metadata": {},
   "outputs": [],
   "source": [
    "class DblClass2:\n",
    "    '''this is a class demo'''\n",
    "    count = 0 # class variable\n",
    "    def __init__(self,val,name):\n",
    "#         var_A = 1000 # a local variable\n",
    "        self.var_A = 1000 # instance variable\n",
    "        self.val=val # instance variable\n",
    "        self.name=name # instance variable\n",
    "        self.chng=0 # instance variable\n",
    "        DblClass.count+=1 \n",
    "    def double(self):\n",
    "#         var_A += 1000\n",
    "        self.var_A += 1000\n",
    "        self.val=2*self.val\n",
    "        \n",
    "        self.var_B = -100 # allowed but not recommended\n",
    "    def rename(self,newname):\n",
    "        self.name=newname\n",
    "        self.chng+=1"
   ]
  },
  {
   "cell_type": "code",
   "execution_count": 19,
   "metadata": {},
   "outputs": [],
   "source": [
    "d = DblClass2(4,'abc')"
   ]
  },
  {
   "cell_type": "code",
   "execution_count": 20,
   "metadata": {},
   "outputs": [],
   "source": [
    "d.double()"
   ]
  },
  {
   "cell_type": "code",
   "execution_count": 23,
   "metadata": {},
   "outputs": [
    {
     "name": "stdout",
     "output_type": "stream",
     "text": [
      "2000\n"
     ]
    }
   ],
   "source": [
    "print(d.var_A)"
   ]
  },
  {
   "cell_type": "markdown",
   "metadata": {},
   "source": [
    "### Some major differences from C++/Java:\n",
    "- A __“class variable”__ is like a static field / member variable in Java/C++\n",
    "- A __“method”__ is like a member function in C++\n",
    "- The concept of __“instance variable”__ is the same in C++/Java, but note that they are declared within a method (member function)! You do not list all your instance variables outside the methods like you do in C++/Java; you just initialize them inside the methods.\n",
    "- The __self__ variable is similar to the __this__ pointer/reference in C++/Java, but you have to include it as the first parameter in the definition of every method. Also, while this was not always necessary for referring to instance variables in C++/Java, in Python, you always have to use self in order to refer to an instance variable.\n",
    "- The __\"object\"__ has two meanings: the most basic kind of thing, and any instance of \n",
    "- The `__init__` method is called class constructor or initialization method that Python calls when you create a new instance of this class.\n",
    "- Even after you have created an instance of a class (an object), you can add new “attributes” (instance variables) to it. They can even be used inside methods, provided that you initialize them before invoking the method.\n",
    "\n",
    "For example: the following works but not it is not recommended"
   ]
  },
  {
   "cell_type": "code",
   "execution_count": 1,
   "metadata": {},
   "outputs": [
    {
     "name": "stdout",
     "output_type": "stream",
     "text": [
      "10\n"
     ]
    }
   ],
   "source": [
    "class MyClass:\n",
    "    pass\n",
    "\n",
    "x = MyClass()\n",
    "x.y = 10\n",
    "print(x.y)"
   ]
  },
  {
   "cell_type": "code",
   "execution_count": 2,
   "metadata": {},
   "outputs": [
    {
     "name": "stdout",
     "output_type": "stream",
     "text": [
      "10 100\n"
     ]
    }
   ],
   "source": [
    "x.y1 = 100\n",
    "print(x.y, x.y1)"
   ]
  },
  {
   "cell_type": "markdown",
   "metadata": {},
   "source": [
    "### Magic methods and overloading operators\n",
    "\n",
    "What are magic methods? They're everything in object-oriented Python. They're special methods that you can define to add \"magic\" to your classes. They're always surrounded by double underscores (e.g. `__init__` or `__add__`). \n",
    "\n",
    "Skim https://rszalski.github.io/magicmethods/ to get an idea for all the magic methods you can use. We will practice overloading these in class.\n",
    "\n",
    "The following example overload the `__add__` method to perform vector addtion."
   ]
  },
  {
   "cell_type": "code",
   "execution_count": 9,
   "metadata": {},
   "outputs": [
    {
     "name": "stdout",
     "output_type": "stream",
     "text": [
      "Vector (2, 10) Vector (5, -2)\n"
     ]
    },
    {
     "ename": "TypeError",
     "evalue": "unsupported operand type(s) for +: 'Vector' and 'Vector'",
     "output_type": "error",
     "traceback": [
      "\u001b[0;31m---------------------------------------------------------------------------\u001b[0m",
      "\u001b[0;31mTypeError\u001b[0m                                 Traceback (most recent call last)",
      "\u001b[0;32m<ipython-input-9-fb75db7f5550>\u001b[0m in \u001b[0;36m<module>\u001b[0;34m\u001b[0m\n\u001b[1;32m     14\u001b[0m \u001b[0;31m# v1.__str__()\u001b[0m\u001b[0;34m\u001b[0m\u001b[0;34m\u001b[0m\u001b[0;34m\u001b[0m\u001b[0m\n\u001b[1;32m     15\u001b[0m \u001b[0mprint\u001b[0m\u001b[0;34m(\u001b[0m\u001b[0mv1\u001b[0m\u001b[0;34m,\u001b[0m \u001b[0mv2\u001b[0m\u001b[0;34m)\u001b[0m\u001b[0;34m\u001b[0m\u001b[0;34m\u001b[0m\u001b[0m\n\u001b[0;32m---> 16\u001b[0;31m \u001b[0mv1\u001b[0m \u001b[0;34m+\u001b[0m \u001b[0mv2\u001b[0m\u001b[0;34m\u001b[0m\u001b[0;34m\u001b[0m\u001b[0m\n\u001b[0m",
      "\u001b[0;31mTypeError\u001b[0m: unsupported operand type(s) for +: 'Vector' and 'Vector'"
     ]
    }
   ],
   "source": [
    "class Vector:\n",
    "    def __init__(self, a, b):\n",
    "        self.a = a\n",
    "        self.b = b\n",
    "        \n",
    "    def __str__(self):\n",
    "#         return 'Vector (%d, %d)' % (self.a, self.b)\n",
    "#         return 'Vector (%s, %s)' % (self.a, self.b)\n",
    "        return 'Vector ({}, {})'.format(self.a, self.b)\n",
    "\n",
    "v1 = Vector(2,10)\n",
    "# print(v1)\n",
    "v2 = Vector(5,-2)\n",
    "# v1.__str__()\n",
    "print(v1, v2)\n",
    "v1 + v2"
   ]
  },
  {
   "cell_type": "code",
   "execution_count": 13,
   "metadata": {},
   "outputs": [
    {
     "name": "stdout",
     "output_type": "stream",
     "text": [
      "self: Vector (2, 10)\n",
      "other: Vector (5, -2)\n",
      "Vector (7, 8)\n"
     ]
    }
   ],
   "source": [
    "class Vector:\n",
    "    def __init__(self, a, b):\n",
    "        self.a = a\n",
    "        self.b = b\n",
    "\n",
    "    def __str__(self):\n",
    "        return 'Vector (%d, %d)' % (self.a, self.b)\n",
    "   \n",
    "    def __add__(self,other):\n",
    "        print(\"self:\", self)\n",
    "        print(\"other:\", other)\n",
    "        return Vector(self.a + other.a, self.b + other.b)\n",
    "\n",
    "v1 = Vector(2,10)\n",
    "v2 = Vector(5,-2)\n",
    "# print(v1.__add__(v2))\n",
    "print(v1 + v2)"
   ]
  },
  {
   "cell_type": "markdown",
   "metadata": {},
   "source": [
    "### Exercise:\n",
    "Try running the following code and predict the output"
   ]
  },
  {
   "cell_type": "code",
   "execution_count": 26,
   "metadata": {},
   "outputs": [],
   "source": [
    "class MyClass:\n",
    "    a = 1 # class variable\n",
    "    def __init__(self, x = 2, y = 3):\n",
    "        MyClass.a = x # class variable\n",
    "        self.b = y # instance variable\n",
    "        self.__c = 10 # private variable\n",
    "   \n",
    "    def get__c(self):\n",
    "        return self.__c\n",
    "     \n",
    "    def set__c(self, x):\n",
    "        self.__c = x"
   ]
  },
  {
   "cell_type": "code",
   "execution_count": 15,
   "metadata": {},
   "outputs": [
    {
     "name": "stdout",
     "output_type": "stream",
     "text": [
      "1\n"
     ]
    }
   ],
   "source": [
    "print(MyClass.a)"
   ]
  },
  {
   "cell_type": "code",
   "execution_count": 27,
   "metadata": {},
   "outputs": [
    {
     "name": "stdout",
     "output_type": "stream",
     "text": [
      "2\n",
      "2\n"
     ]
    }
   ],
   "source": [
    "o1 = MyClass()\n",
    "print(MyClass.a)\n",
    "print(o1.a)"
   ]
  },
  {
   "cell_type": "code",
   "execution_count": 17,
   "metadata": {},
   "outputs": [
    {
     "name": "stdout",
     "output_type": "stream",
     "text": [
      "4\n",
      "4\n",
      "4\n"
     ]
    }
   ],
   "source": [
    "o2 = MyClass(4)\n",
    "print(MyClass.a)\n",
    "print(o1.a)\n",
    "print(o2.a)"
   ]
  },
  {
   "cell_type": "code",
   "execution_count": 18,
   "metadata": {},
   "outputs": [
    {
     "name": "stdout",
     "output_type": "stream",
     "text": [
      "5\n",
      "5\n",
      "5\n",
      "5\n"
     ]
    }
   ],
   "source": [
    "o3 = MyClass(5,6)\n",
    "print(MyClass.a)\n",
    "print(o1.a)\n",
    "print(o2.a)\n",
    "print(o3.a)"
   ]
  },
  {
   "cell_type": "code",
   "execution_count": 19,
   "metadata": {},
   "outputs": [
    {
     "name": "stdout",
     "output_type": "stream",
     "text": [
      "7\n",
      "7\n",
      "7\n"
     ]
    }
   ],
   "source": [
    "MyClass.a = 7\n",
    "print(o1.a)\n",
    "print(o2.a)\n",
    "print(o3.a)"
   ]
  },
  {
   "cell_type": "code",
   "execution_count": 20,
   "metadata": {},
   "outputs": [
    {
     "name": "stdout",
     "output_type": "stream",
     "text": [
      "7\n",
      "8\n",
      "7\n",
      "7\n"
     ]
    }
   ],
   "source": [
    "o1.a = 8\n",
    "print(MyClass.a)\n",
    "print(o1.a)\n",
    "print(o2.a)\n",
    "print(o3.a)"
   ]
  },
  {
   "cell_type": "code",
   "execution_count": 21,
   "metadata": {},
   "outputs": [
    {
     "name": "stdout",
     "output_type": "stream",
     "text": [
      "7\n",
      "7\n",
      "7\n"
     ]
    }
   ],
   "source": [
    "del o1.a # delete the instance variable a\n",
    "print(o1.a)\n",
    "print(o2.a)\n",
    "print(o3.a)"
   ]
  },
  {
   "cell_type": "markdown",
   "metadata": {},
   "source": [
    "__Private Variables__: those that begin with double underscore"
   ]
  },
  {
   "cell_type": "code",
   "execution_count": 1,
   "metadata": {},
   "outputs": [
    {
     "ename": "NameError",
     "evalue": "name 'o1' is not defined",
     "output_type": "error",
     "traceback": [
      "\u001b[1;31m---------------------------------------------------------------------------\u001b[0m",
      "\u001b[1;31mNameError\u001b[0m                                 Traceback (most recent call last)",
      "\u001b[1;32m<ipython-input-1-8378dfca5d80>\u001b[0m in \u001b[0;36m<module>\u001b[1;34m\u001b[0m\n\u001b[1;32m----> 1\u001b[1;33m \u001b[0mdir\u001b[0m\u001b[1;33m(\u001b[0m\u001b[0mo1\u001b[0m\u001b[1;33m)\u001b[0m\u001b[1;33m\u001b[0m\u001b[1;33m\u001b[0m\u001b[0m\n\u001b[0m\u001b[0;32m      2\u001b[0m \u001b[0mprint\u001b[0m\u001b[1;33m(\u001b[0m\u001b[0mo1\u001b[0m\u001b[1;33m.\u001b[0m\u001b[0m_MyClass__c\u001b[0m\u001b[1;33m)\u001b[0m\u001b[1;33m\u001b[0m\u001b[1;33m\u001b[0m\u001b[0m\n",
      "\u001b[1;31mNameError\u001b[0m: name 'o1' is not defined"
     ]
    }
   ],
   "source": [
    "#dir(o1)\n",
    "print(o1._MyClass__c) #output is 10"
   ]
  },
  {
   "cell_type": "code",
   "execution_count": 22,
   "metadata": {},
   "outputs": [
    {
     "ename": "AttributeError",
     "evalue": "'MyClass' object has no attribute '__c'",
     "output_type": "error",
     "traceback": [
      "\u001b[0;31m---------------------------------------------------------------------------\u001b[0m",
      "\u001b[0;31mAttributeError\u001b[0m                            Traceback (most recent call last)",
      "\u001b[0;32m<ipython-input-22-e335456b5ada>\u001b[0m in \u001b[0;36m<module>\u001b[0;34m\u001b[0m\n\u001b[0;32m----> 1\u001b[0;31m \u001b[0mprint\u001b[0m\u001b[0;34m(\u001b[0m\u001b[0mo1\u001b[0m\u001b[0;34m.\u001b[0m\u001b[0m__c\u001b[0m\u001b[0;34m)\u001b[0m\u001b[0;34m\u001b[0m\u001b[0;34m\u001b[0m\u001b[0m\n\u001b[0m",
      "\u001b[0;31mAttributeError\u001b[0m: 'MyClass' object has no attribute '__c'"
     ]
    }
   ],
   "source": [
    "print(o1.__c)"
   ]
  },
  {
   "cell_type": "code",
   "execution_count": 23,
   "metadata": {},
   "outputs": [
    {
     "name": "stdout",
     "output_type": "stream",
     "text": [
      "10\n"
     ]
    }
   ],
   "source": [
    "print(o1.get__c())"
   ]
  },
  {
   "cell_type": "code",
   "execution_count": 30,
   "metadata": {},
   "outputs": [
    {
     "name": "stdout",
     "output_type": "stream",
     "text": [
      "11\n",
      "10\n",
      "12\n"
     ]
    }
   ],
   "source": [
    "o1.__c = 11 # creates an additional instance variable named \"__c\"\n",
    "print(o1.__c)\n",
    "print(o1.get__c())\n",
    "del o1.__c\n",
    "o1.set__c(12)\n",
    "print(o1.get__c())"
   ]
  },
  {
   "cell_type": "markdown",
   "metadata": {},
   "source": [
    "### Exercise:\n",
    "- Create a list-class yourself: one that has an `append()` function and a `length` data attribute. (Standard python lists can only give you the length through the `len()` function, which is not an attribute.)"
   ]
  },
  {
   "cell_type": "code",
   "execution_count": null,
   "metadata": {},
   "outputs": [],
   "source": []
  },
  {
   "cell_type": "markdown",
   "metadata": {},
   "source": [
    "- Create a class of objects that act like integers, and have a `plus(k)` method attribute, which increases the integer by `k`, and a `parity` data attribute, which is either `’odd’` or `’even’`, and is correctly updated each time."
   ]
  },
  {
   "cell_type": "code",
   "execution_count": null,
   "metadata": {},
   "outputs": [],
   "source": []
  }
 ],
 "metadata": {
  "kernelspec": {
   "display_name": "Python 3",
   "language": "python",
   "name": "python3"
  },
  "language_info": {
   "codemirror_mode": {
    "name": "ipython",
    "version": 3
   },
   "file_extension": ".py",
   "mimetype": "text/x-python",
   "name": "python",
   "nbconvert_exporter": "python",
   "pygments_lexer": "ipython3",
   "version": "3.8.5"
  }
 },
 "nbformat": 4,
 "nbformat_minor": 2
}
