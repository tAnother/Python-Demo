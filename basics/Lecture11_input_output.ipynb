{
 "cells": [
  {
   "cell_type": "markdown",
   "metadata": {},
   "source": [
    "# Lecture 11: Input/Output (text files, CSV)\n",
    "\n",
    "- Read and write text from/to files\n",
    "\n",
    "- Read and write data from/to csv files using the csv module\n",
    "\n",
    "__Reading material__: \n",
    "- [Reading and writing files](https://docs.python.org/3.7/tutorial/inputoutput.html#reading-and-writing-files)\n",
    "- [CSV module](https://realpython.com/python-csv/)"
   ]
  },
  {
   "cell_type": "markdown",
   "metadata": {},
   "source": [
    "__Task 1__: Read 7.2 and 7.2.1. Let's learn how to open a file for writing and write to the file. Also, the `with` keyword is new. You won’t need to know how to read or write binary files in this class, and we won’t need the tell or seek methods."
   ]
  },
  {
   "cell_type": "markdown",
   "metadata": {},
   "source": [
    "__Task 2__: Write \"hello world\" to a new file helloworld.txt. Don’t create the file in a text editor first; let Python create the file for you. Make it such that running the program multiple times should add additional lines hello world to the file rather than overwriting it. Please open the file in a text editor to make sure your program is working correctly.\n",
    "\n",
    "Here are some examples:"
   ]
  },
  {
   "cell_type": "code",
   "execution_count": null,
   "metadata": {},
   "outputs": [],
   "source": [
    "f = open(\"myfile.txt\",\"w\")\n",
    "f.write(\"hello\")\n",
    "# Can you see the content in the text file?"
   ]
  },
  {
   "cell_type": "code",
   "execution_count": null,
   "metadata": {},
   "outputs": [],
   "source": [
    "f.close()"
   ]
  },
  {
   "cell_type": "code",
   "execution_count": null,
   "metadata": {},
   "outputs": [],
   "source": [
    "f = open(\"myfile.txt\",\"w\")\n",
    "f.write(\"hello again\")\n",
    "f.close()"
   ]
  },
  {
   "cell_type": "code",
   "execution_count": null,
   "metadata": {},
   "outputs": [],
   "source": [
    "f = open(\"myfile.txt\",\"a\")\n",
    "f.write(\"hello again\")\n",
    "f.close()"
   ]
  },
  {
   "cell_type": "code",
   "execution_count": null,
   "metadata": {},
   "outputs": [],
   "source": [
    "# the with ... as... syntax is useful. \n",
    "with open(\"myfile.txt\",\"a\") as f:\n",
    "    f.write(\"something\\n\")\n",
    "    f.write(\"something else\\n\")"
   ]
  },
  {
   "cell_type": "code",
   "execution_count": null,
   "metadata": {},
   "outputs": [],
   "source": [
    "with open(\"myfile.txt\", \"a\") as f:\n",
    "    lines = [\"a\\n\", \"b\\n\", \"c\\n\"]\n",
    "    f.writelines(lines)"
   ]
  },
  {
   "cell_type": "markdown",
   "metadata": {},
   "source": [
    "__Task 3__: Now let's read the text back into a variable."
   ]
  },
  {
   "cell_type": "code",
   "execution_count": null,
   "metadata": {},
   "outputs": [],
   "source": [
    "with open(\"myfile.txt\",\"r\") as f:\n",
    "    x = f.read()\n",
    "    print(x)\n",
    "#print everything from the file"
   ]
  },
  {
   "cell_type": "code",
   "execution_count": null,
   "metadata": {},
   "outputs": [],
   "source": [
    "with open(\"myfile.txt\",\"r\") as f:\n",
    "    print(f.readline(),end = \"\")\n",
    "    print(f.readline(),end = \"\")\n",
    "    print(f.readline(),end = \"\")"
   ]
  },
  {
   "cell_type": "code",
   "execution_count": null,
   "metadata": {},
   "outputs": [],
   "source": [
    "with open(\"myfile.txt\",\"r\") as f:\n",
    "    for line in f:\n",
    "        print(line, end=\"\")"
   ]
  },
  {
   "cell_type": "markdown",
   "metadata": {},
   "source": [
    "__Task 4__: Read: https://realpython.com/python-csv/ (or any other csv module tutorial you find that you prefer).\n",
    "\n",
    "Read in simpledata.csv into a single list (a list of lists, really) and print it with all the names (but not the header info) in ALL CAPS. Write this data (again with the names in all caps) to a new file simpledata2.csv with the same delimiter as the original file (open the file in a text editor to see...)."
   ]
  },
  {
   "cell_type": "code",
   "execution_count": 1,
   "metadata": {},
   "outputs": [
    {
     "name": "stdout",
     "output_type": "stream",
     "text": [
      "['Name', 'Phone']\n",
      "['Ifeoma Rosario', '848-1434']\n",
      "['Kylan Clay', '271-3698']\n",
      "['Dustin Evans', '583-3803']\n",
      "['Kelly Carver', '614-9223']\n"
     ]
    }
   ],
   "source": [
    "import csv\n",
    "with open(\"simpledata.csv\", \"r\") as f:\n",
    "    reader = csv.reader(f)\n",
    "    for row in reader:\n",
    "        print(row)"
   ]
  },
  {
   "cell_type": "code",
   "execution_count": 2,
   "metadata": {},
   "outputs": [
    {
     "name": "stdout",
     "output_type": "stream",
     "text": [
      "[['Name', 'Phone'], ['IFEOMA ROSARIO', '848-1434'], ['KYLAN CLAY', '271-3698'], ['DUSTIN EVANS', '583-3803'], ['KELLY CARVER', '614-9223']]\n"
     ]
    }
   ],
   "source": [
    "d = []\n",
    "with open(\"simpledata.csv\", \"r\") as f:\n",
    "    reader = csv.reader(f)\n",
    "    row_num = 0\n",
    "    for row in reader:\n",
    "        if row_num == 0:\n",
    "            d.append(row)\n",
    "        else:\n",
    "            d.append([row[0].upper(),row[1]])\n",
    "        row_num += 1\n",
    "print(d)"
   ]
  },
  {
   "cell_type": "code",
   "execution_count": 3,
   "metadata": {},
   "outputs": [],
   "source": [
    "with open(\"simpledata2.csv\", \"w\") as f:\n",
    "    writer = csv.writer(f)\n",
    "    for row in d:\n",
    "        writer.writerow(row)"
   ]
  },
  {
   "cell_type": "markdown",
   "metadata": {},
   "source": [
    "## Exercise:\n"
   ]
  },
  {
   "cell_type": "markdown",
   "metadata": {},
   "source": [
    "Practice with the dictionary\n",
    "\n",
    "`x = {\"Hello\":1, \"Goodbye\": 2}`\n",
    "\n",
    "First save it as text using the `with ... as` syntax and read it back into a different variable, y. \n",
    "\n",
    "Does `print(y[\"Hello\"])` show `1`? \n",
    "What kind of variable is y?"
   ]
  },
  {
   "cell_type": "code",
   "execution_count": null,
   "metadata": {},
   "outputs": [],
   "source": []
  }
 ],
 "metadata": {
  "kernelspec": {
   "display_name": "Python 3",
   "language": "python",
   "name": "python3"
  },
  "language_info": {
   "codemirror_mode": {
    "name": "ipython",
    "version": 3
   },
   "file_extension": ".py",
   "mimetype": "text/x-python",
   "name": "python",
   "nbconvert_exporter": "python",
   "pygments_lexer": "ipython3",
   "version": "3.8.5"
  }
 },
 "nbformat": 4,
 "nbformat_minor": 2
}
