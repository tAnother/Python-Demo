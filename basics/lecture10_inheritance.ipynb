{
 "cells": [
  {
   "cell_type": "markdown",
   "metadata": {},
   "source": [
    "# Lecture 10\n",
    "\n",
    "- Write subclasses that inherit variables and methods from their superclasses\n",
    "- Create classes and use the built-in super function to access methods of the superclass\n",
    "- Inheritance vs. Composition\n",
    "\n",
    "__Reading Material__: \n",
    "\n",
    "- [Class Inheritance](https://www.python-course.eu/python3_inheritance.php)"
   ]
  },
  {
   "cell_type": "markdown",
   "metadata": {},
   "source": [
    "## 1.  Class Inheritance and Overriding Methods"
   ]
  },
  {
   "cell_type": "markdown",
   "metadata": {},
   "source": [
    "- Try running __inheritance1.py__. Here we have a superclass ClassA and a subclass ClassB; we\n",
    "indicate that ClassB extends (subclasses) ClassA by including ClassA in parentheses after the name of ClassB. Both have initializers that print something when they run. ClassA has an class variable static_var (named because it's very similar to a static field in Java), and its initializer defines an instance variable instance_var. In the main function, we create a ClassB object and see that indeed, the class itself and an instance of that class have inherited the class variable static_var from ClassA. However, b does not have an instance_var because the superclass initializer doesn’t run automatically when we create an instance of the subclass"
   ]
  },
  {
   "cell_type": "code",
   "execution_count": 1,
   "metadata": {},
   "outputs": [
    {
     "name": "stdout",
     "output_type": "stream",
     "text": [
      "ClassB.static_var = 1\n",
      "Initializing B\n",
      "b.static_var = 1\n",
      "b has no instance variable instance_var\n"
     ]
    }
   ],
   "source": [
    "class ClassA:\n",
    "    static_var = 1\n",
    "    def __init__(self):\n",
    "        print(\"Initializing A\")\n",
    "        self.instance_var = 2       \n",
    "\n",
    "class ClassB(ClassA):\n",
    "    def __init__(self):\n",
    "        print(\"Initializing B\")\n",
    "   \n",
    " \n",
    "def main():\n",
    "    print(\"ClassB.static_var =\",ClassB.static_var)\n",
    "    b = ClassB()\n",
    "    print(\"b.static_var =\",b.static_var)\n",
    "    try: \n",
    "        print(\"b.instance_var =\",b.instance_var)\n",
    "    except:\n",
    "        print(\"b has no instance variable instance_var\") \n",
    "        \n",
    "if __name__ == \"__main__\":\n",
    "    main()"
   ]
  },
  {
   "cell_type": "markdown",
   "metadata": {},
   "source": [
    "- Now run __inheritance2.py__. The difference here is that we try to call the superclass’ initializer explicitly (using the Python equivalent of super from Java). We're trying to explicitly initialize the superclass object within the instance of the subclass so we can inherit its instance variables. Calling `super(ClassB,self)` or simply `super()` means something like \"give me a reference to the instance of the superclass of ClassB that lives within self\", or “give me a reference to the superclass part of the present object”, then `__init__` calls the initializer of that superclass object. Now b has the instance_var inherited from the ClassA object that \"lives within\" it.\n",
    "\n",
    "\n",
    "* The most common use of `super()` is actually in `__init__` functions in base classes. This is usually the only place where you need to do some things in a child, and then complete the initialization in the parent."
   ]
  },
  {
   "cell_type": "code",
   "execution_count": 2,
   "metadata": {},
   "outputs": [
    {
     "name": "stdout",
     "output_type": "stream",
     "text": [
      "Initializing B\n",
      "Initializing A\n",
      "b.static_var = 1\n",
      "b.instance_var = 2\n"
     ]
    }
   ],
   "source": [
    "class ClassA:\n",
    "    static_var = 1\n",
    "    def __init__(self):\n",
    "        print(\"Initializing A\")\n",
    "        self.instance_var = 2        \n",
    "        \n",
    "\n",
    "class ClassB(ClassA):\n",
    "    def __init__(self):\n",
    "        print(\"Initializing B\")\n",
    "        # This is new --\n",
    "        super().__init__() # equivalent to super(ClassB,self).__init__()\n",
    "        # -- this is new\n",
    "        \n",
    "\n",
    "def main():\n",
    "    b = ClassB()\n",
    "    print(\"b.static_var =\",b.static_var)\n",
    "    try: \n",
    "        print(\"b.instance_var =\",b.instance_var)\n",
    "    except:\n",
    "        print(\"b has no instance variable instance_var\")   \n",
    "\n",
    "if __name__ == \"__main__\":\n",
    "    main()"
   ]
  },
  {
   "cell_type": "markdown",
   "metadata": {},
   "source": [
    "- Run __inheritance3.py__. Now we've added `my_method()` to ClassA, and we can invoke it on an instance of ClassB because ClassB subclasses ClassA."
   ]
  },
  {
   "cell_type": "code",
   "execution_count": 3,
   "metadata": {},
   "outputs": [
    {
     "name": "stdout",
     "output_type": "stream",
     "text": [
      "Initializing B\n",
      "Initializing A\n",
      "b.static_var = 1\n",
      "b.instance_var = 2\n",
      "Do Something\n"
     ]
    }
   ],
   "source": [
    "class ClassA:\n",
    "    static_var = 1\n",
    "    \n",
    "    def __init__(self):\n",
    "        print(\"Initializing A\")\n",
    "        self.instance_var = 2    \n",
    "        \n",
    "    # this is new --\n",
    "    def my_method(self):\n",
    "        print(\"Do Something\")\n",
    "    # -- this was new\n",
    "    \n",
    "class ClassB(ClassA):\n",
    "    def __init__(self):\n",
    "        print(\"Initializing B\")\n",
    "        super().__init__() \n",
    "        \n",
    "def main():\n",
    "    b = ClassB()\n",
    "    print(\"b.static_var =\",b.static_var)\n",
    "    print(\"b.instance_var =\",b.instance_var)\n",
    "    b.my_method() # this is new\n",
    "        \n",
    "if __name__ == \"__main__\":\n",
    "    main()"
   ]
  },
  {
   "cell_type": "markdown",
   "metadata": {},
   "source": [
    "- Run __inheritance4.py__. Here we override `my_method` in ClassB. Now, invoking `my_method` on b causes the ClassB version of the method to run."
   ]
  },
  {
   "cell_type": "code",
   "execution_count": 4,
   "metadata": {},
   "outputs": [
    {
     "name": "stdout",
     "output_type": "stream",
     "text": [
      "Initializing B\n",
      "Initializing A\n",
      "b.static_var = 1\n",
      "b.instance_var = 2\n",
      "Do Something Else\n"
     ]
    }
   ],
   "source": [
    "class ClassA:\n",
    "    static_var = 1\n",
    "    \n",
    "    def __init__(self):\n",
    "        print(\"Initializing A\")\n",
    "        self.instance_var = 2        \n",
    "    \n",
    "    def my_method(self):\n",
    "        print(\"Do Something\")\n",
    "        \n",
    "class ClassB(ClassA):\n",
    "    def __init__(self):\n",
    "        print(\"Initializing B\")\n",
    "        super().__init__()        \n",
    "        \n",
    "    # this is new --\n",
    "    def my_method(self):\n",
    "        print(\"Do Something Else\")\n",
    "    # -- this was new\n",
    "\n",
    "def main():\n",
    "    b = ClassB()\n",
    "    print(\"b.static_var =\",b.static_var)\n",
    "    print(\"b.instance_var =\",b.instance_var)\n",
    "    b.my_method()\n",
    "    \n",
    "if __name__ == \"__main__\":\n",
    "    main()"
   ]
  },
  {
   "cell_type": "markdown",
   "metadata": {},
   "source": [
    "- Run __inheritance5.py__. Now we've added `my_super_method()` to ClassB that exists only to call the superclass version of `my_method()`. Note that we've used `super()` again to get a reference to the superclass object within, and invoke its `my_method()`."
   ]
  },
  {
   "cell_type": "code",
   "execution_count": 5,
   "metadata": {},
   "outputs": [
    {
     "name": "stdout",
     "output_type": "stream",
     "text": [
      "Initializing B\n",
      "Initializing A\n",
      "b.static_var = 1\n",
      "b.instance_var = 2\n",
      "Do Something Else\n",
      "Do Something\n"
     ]
    }
   ],
   "source": [
    "class ClassA:\n",
    "    static_var = 1\n",
    "    \n",
    "    def __init__(self):\n",
    "        print(\"Initializing A\")\n",
    "        self.instance_var = 2     \n",
    "        \n",
    "    def my_method(self):\n",
    "        print(\"Do Something\")\n",
    "        \n",
    "class ClassB(ClassA):\n",
    "    def __init__(self):\n",
    "        print(\"Initializing B\")\n",
    "        super().__init__()    \n",
    "    \n",
    "    def my_method(self):\n",
    "        print(\"Do Something Else\")\n",
    "    \n",
    "    # this is new --\n",
    "    def my_super_method(self):\n",
    "        super().my_method()\n",
    "    # -- this is new\n",
    "    \n",
    "def main():\n",
    "    \n",
    "    b = ClassB()    \n",
    "    print(\"b.static_var =\",b.static_var)\n",
    "    print(\"b.instance_var =\",b.instance_var)      \n",
    "    \n",
    "    b.my_method()\n",
    "    b.my_super_method() # this is new\n",
    "    \n",
    "if __name__ == \"__main__\":\n",
    "    main()"
   ]
  },
  {
   "cell_type": "markdown",
   "metadata": {},
   "source": [
    "- Run __inheritance6.py__. Now we've called `my_method( )` from within the initializer of ClassA. Perhaps surprisingly, the subclass version of the method is the one that actually gets run! That's the way things are supposed to work. Subclass methods completely override superclass methods unless we use something like `super()` to explicitly refer to the superclass object and invoke the method on that. If we really, really want to call the ClassA version of `my_method`, we can call `super().my_method()` or, perhaps more logically here, `ClassA.my_method(self)`, but this is not typical."
   ]
  },
  {
   "cell_type": "code",
   "execution_count": 7,
   "metadata": {},
   "outputs": [
    {
     "name": "stdout",
     "output_type": "stream",
     "text": [
      "Initializing B\n",
      "Initializing A\n",
      "Do Something Else\n",
      "Do Something\n",
      "b.static_var = 1\n",
      "b.instance_var = 2\n"
     ]
    }
   ],
   "source": [
    "class ClassA:\n",
    "    static_var = 1\n",
    "    def __init__(self):\n",
    "        print(\"Initializing A\")\n",
    "        self.instance_var = 2\n",
    "        self.my_method() # this is new, call my method in Class B\n",
    "        ClassA.my_method(self) #this will call my method in Class A\n",
    "        \n",
    "    def my_method(self):\n",
    "        print(\"Do Something\")\n",
    "        \n",
    "class ClassB(ClassA):\n",
    "    def __init__(self):\n",
    "        print(\"Initializing B\")\n",
    "        super().__init__()\n",
    " \n",
    "    def my_method(self):\n",
    "        print(\"Do Something Else\")\n",
    "\n",
    "def main():\n",
    "    b = ClassB()    \n",
    "    print(\"b.static_var =\",b.static_var)\n",
    "    print(\"b.instance_var =\",b.instance_var)\n",
    "\n",
    "if __name__ == \"__main__\":\n",
    "    main()"
   ]
  },
  {
   "cell_type": "markdown",
   "metadata": {},
   "source": [
    "### Exercises:\n",
    "Read the following code and predict what they will print to the console when run."
   ]
  },
  {
   "cell_type": "code",
   "execution_count": 8,
   "metadata": {},
   "outputs": [
    {
     "name": "stdout",
     "output_type": "stream",
     "text": [
      "PARENT implicit()\n",
      "PARENT implicit()\n"
     ]
    }
   ],
   "source": [
    "class Parent:\n",
    "    def implicit(self):\n",
    "        print(\"PARENT implicit()\")\n",
    "\n",
    "class Child(Parent):\n",
    "    pass\n",
    "\n",
    "dad = Parent()\n",
    "son = Child()\n",
    "\n",
    "dad.implicit()\n",
    "son.implicit()"
   ]
  },
  {
   "cell_type": "code",
   "execution_count": 9,
   "metadata": {},
   "outputs": [
    {
     "name": "stdout",
     "output_type": "stream",
     "text": [
      "PARENT override()\n",
      "CHILD override()\n"
     ]
    }
   ],
   "source": [
    "class Parent:\n",
    "    def override(self):\n",
    "        print(\"PARENT override()\")\n",
    "\n",
    "class Child(Parent):\n",
    "    def override(self):\n",
    "        print(\"CHILD override()\")\n",
    "\n",
    "dad = Parent()\n",
    "son = Child()\n",
    "\n",
    "dad.override()\n",
    "son.override()"
   ]
  },
  {
   "cell_type": "code",
   "execution_count": 10,
   "metadata": {},
   "outputs": [
    {
     "name": "stdout",
     "output_type": "stream",
     "text": [
      "PARENT altered()\n",
      "CHILD, BEFORE PARENT altered()\n",
      "PARENT altered()\n",
      "CHILD, AFTER PARENT altered()\n"
     ]
    }
   ],
   "source": [
    "class Parent:\n",
    "    def altered(self):\n",
    "        print(\"PARENT altered()\")\n",
    "\n",
    "class Child(Parent):\n",
    "    def altered(self):\n",
    "        print(\"CHILD, BEFORE PARENT altered()\")\n",
    "        super().altered()\n",
    "        print(\"CHILD, AFTER PARENT altered()\")\n",
    "\n",
    "dad = Parent()\n",
    "son = Child()\n",
    "\n",
    "dad.altered()\n",
    "son.altered()"
   ]
  },
  {
   "cell_type": "markdown",
   "metadata": {},
   "source": [
    "## 2. Class Composition"
   ]
  },
  {
   "cell_type": "markdown",
   "metadata": {},
   "source": [
    "Inheritance is useful, but another way to do the exact same thing is just to use other classes and modules, rather than rely on implicit inheritance. You can easily call functions in another class."
   ]
  },
  {
   "cell_type": "code",
   "execution_count": 11,
   "metadata": {},
   "outputs": [
    {
     "name": "stdout",
     "output_type": "stream",
     "text": [
      "OTHER implicit()\n",
      "CHILD override()\n",
      "CHILD, BEFORE OTHER altered()\n",
      "OTHER altered()\n",
      "CHILD, AFTER OTHER altered()\n"
     ]
    }
   ],
   "source": [
    "class Other:\n",
    "    def override(self):\n",
    "        print(\"OTHER override()\")\n",
    "    \n",
    "    def implicit(self):\n",
    "        print(\"OTHER implicit()\")\n",
    "    \n",
    "    def altered(self):\n",
    "        print(\"OTHER altered()\")\n",
    "\n",
    "class Child:\n",
    "    def __init__(self):\n",
    "        self.other = Other()\n",
    "    \n",
    "    def implicit(self):\n",
    "        self.other.implicit()\n",
    "    \n",
    "    def override(self):\n",
    "        print(\"CHILD override()\")\n",
    "    \n",
    "    def altered(self):\n",
    "        print(\"CHILD, BEFORE OTHER altered()\")\n",
    "        self.other.altered()\n",
    "        print(\"CHILD, AFTER OTHER altered()\")\n",
    "\n",
    "son = Child()\n",
    "\n",
    "son.implicit()\n",
    "son.override()\n",
    "son.altered()\n"
   ]
  },
  {
   "cell_type": "markdown",
   "metadata": {},
   "source": [
    "### General guidelines:\n",
    "* Avoid multiple inheritance at all costs.\n",
    "* Use composition to package up code into modules that are used in many different unrelated places and situations.\n",
    "* Use inheritance only when there are clearly related reusable pieces of code that fit under a single common concept."
   ]
  }
 ],
 "metadata": {
  "kernelspec": {
   "display_name": "Python 3",
   "language": "python",
   "name": "python3"
  },
  "language_info": {
   "codemirror_mode": {
    "name": "ipython",
    "version": 3
   },
   "file_extension": ".py",
   "mimetype": "text/x-python",
   "name": "python",
   "nbconvert_exporter": "python",
   "pygments_lexer": "ipython3",
   "version": "3.8.5"
  }
 },
 "nbformat": 4,
 "nbformat_minor": 2
}
