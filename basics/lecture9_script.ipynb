{
 "cells": [
  {
   "cell_type": "markdown",
   "metadata": {},
   "source": [
    "# Lecture 9\n",
    "1. Determine whether a script is the main program or not using the global variable `__name__`\n",
    "2. Useful built-in functions: filter, map, enumerate, zip, reversed\n",
    "\n",
    "\n",
    "__Reading material__: \n",
    "- [Python tutorial](https://docs.python.org/3.7/tutorial/)  5.6\n",
    "- [Executing Modules as Scripts](https://docs.python.org/3.7/tutorial/modules.html#executing-modules-as-scripts)\n",
    "- [Built-in Functions](https://docs.python.org/3.7/library/functions.html?highlight=built)"
   ]
  },
  {
   "cell_type": "markdown",
   "metadata": {},
   "source": [
    "##  1. `__name__ == \"__main__\" `"
   ]
  },
  {
   "cell_type": "markdown",
   "metadata": {},
   "source": [
    "We'll see the Python idiom if \\_\\_name\\__ == \"\\__main\\__\" a lot, so it's good to understand what's going on."
   ]
  },
  {
   "cell_type": "markdown",
   "metadata": {},
   "source": [
    "- Run __example1.py__ in Spyder or by calling python main1.py at the command line. Only \"example1 is running\" prints to the console, not \"main() is running\". That's because the code to print \"main() is running\" is in a method called main, and there's nothing special about a method with the name main in Python (whereas it's quite special in C++ and Java). If we don't call the main method explicitly, it doesn’t run. "
   ]
  },
  {
   "cell_type": "markdown",
   "metadata": {},
   "source": [
    "-  Run __example2.py__. It prints \"main2 is running\" and \"main( ) is running\" because we called \"main( )\" explicitly in the script."
   ]
  },
  {
   "cell_type": "markdown",
   "metadata": {},
   "source": [
    "- Next, run __example3.py__. Note that it's \\_\\_name\\_\\_ variable has automatically been (created and) initialized to \\__main\\__ because this is the file you ran from Spyder (or the command line), and thus it is the “main” module."
   ]
  },
  {
   "cell_type": "markdown",
   "metadata": {},
   "source": [
    "- Finally, run __example4.py__ from the same directory as __example3.py__.\n",
    "\n",
    "The only thing that’s unusual here is how the `__name__` variable works. It takes on a different value depending on whether it appears in the script you chose to run or in an imported module. In the script you chose to run, `__name__` takes on the value `__main__`. In an imported module, `__name__` is the filename of the module. If this was not clear, please go back and/or do some tests of your own to understand its behavior.\n",
    "\n",
    "The purpose of the if `__name__ == \"__main__\"` idiom is to enable certain code to run (often test code) when the user choses to run the file as a script but to prevent that same code from running if the file is imported as a module by another script."
   ]
  },
  {
   "cell_type": "markdown",
   "metadata": {},
   "source": [
    "## 2. Useful built-in functions\n",
    "\n",
    "Exercise: search the internet and figure out how to manipulate sequence elements compactly using built-in functions including:\n",
    "        - filter\n",
    "        - map\n",
    "        - enumerate\n",
    "        - zip\n",
    "        - reversed\n",
    "        - items\n",
    "\n",
    "For example, the _enumerate_ function adds a counter to a sequence."
   ]
  },
  {
   "cell_type": "code",
   "execution_count": 2,
   "metadata": {},
   "outputs": [
    {
     "name": "stdout",
     "output_type": "stream",
     "text": [
      "0 tic\n",
      "1 tac\n",
      "2 toe\n"
     ]
    }
   ],
   "source": [
    "l = ['tic', 'tac', 'toe']\n",
    "for i, v in enumerate(l):\n",
    "    print(i, v)"
   ]
  },
  {
   "cell_type": "code",
   "execution_count": 4,
   "metadata": {},
   "outputs": [
    {
     "name": "stdout",
     "output_type": "stream",
     "text": [
      "9 7 5 3 1 "
     ]
    }
   ],
   "source": [
    "# try to accomplish this using slicing\n",
    "l = range(1,10,2)\n",
    "for i in reversed(l):\n",
    "    print(i, end=\" \")"
   ]
  },
  {
   "cell_type": "code",
   "execution_count": 6,
   "metadata": {},
   "outputs": [
    {
     "name": "stdout",
     "output_type": "stream",
     "text": [
      "1 Jan\n",
      "2 Feb\n",
      "3 Mar\n"
     ]
    }
   ],
   "source": [
    "month_name = {1: 'Jan', 2: 'Feb', 3:'Mar'} \n",
    "for k, v in month_name.items():\n",
    "    print(k, v)"
   ]
  },
  {
   "cell_type": "code",
   "execution_count": null,
   "metadata": {},
   "outputs": [],
   "source": []
  }
 ],
 "metadata": {
  "kernelspec": {
   "display_name": "Python 3",
   "language": "python",
   "name": "python3"
  },
  "language_info": {
   "codemirror_mode": {
    "name": "ipython",
    "version": 3
   },
   "file_extension": ".py",
   "mimetype": "text/x-python",
   "name": "python",
   "nbconvert_exporter": "python",
   "pygments_lexer": "ipython3",
   "version": "3.8.5"
  }
 },
 "nbformat": 4,
 "nbformat_minor": 2
}
